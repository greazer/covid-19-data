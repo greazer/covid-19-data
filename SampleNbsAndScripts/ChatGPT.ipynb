{
 "cells": [
  {
   "cell_type": "code",
   "execution_count": null,
   "metadata": {},
   "outputs": [],
   "source": [
    "%load_ext chatgpt\n",
    "%setKey"
   ]
  },
  {
   "attachments": {},
   "cell_type": "markdown",
   "metadata": {},
   "source": [
    "### Manual code entry\n",
    "Pretend the user was privy enough to just write the following code manually. This is so common, asking a chatbot to do it seems pointless."
   ]
  },
  {
   "cell_type": "code",
   "execution_count": null,
   "metadata": {},
   "outputs": [],
   "source": [
    "import pandas as pd\n",
    "state_cov_data = pd.read_csv('live/us-states.csv')\n"
   ]
  },
  {
   "attachments": {},
   "cell_type": "markdown",
   "metadata": {},
   "source": [
    "Obviously at this point the chatbot doesn't have any clue as to what's happening, but let's check just to make sure. :)"
   ]
  },
  {
   "cell_type": "code",
   "execution_count": null,
   "metadata": {},
   "outputs": [],
   "source": [
    "%%chat\n",
    "What dataframes are loaded?"
   ]
  },
  {
   "attachments": {},
   "cell_type": "markdown",
   "metadata": {},
   "source": [
    "### Tell chat what's been initialized\n",
    "\n",
    "So to help us, we need to tell the chatbot what we've done so far. So let's provide the code we executed. Then make sure it understands what we did."
   ]
  },
  {
   "cell_type": "code",
   "execution_count": null,
   "metadata": {},
   "outputs": [],
   "source": [
    "%%chat\n",
    "Is dataframe initialized in code? If so, name?\n",
    "\n",
    "import pandas as pd\n",
    "state_cov_data = pd.read_csv('live/us-states.csv')\n",
    "\n",
    "If a dataframe was initialized, show name."
   ]
  },
  {
   "attachments": {},
   "cell_type": "markdown",
   "metadata": {},
   "source": [
    "#### Make sure it's not just humoring us...\n",
    "\n",
    "Just to make sure it's actually looking at the code we sent it, let's make sure it doesn't see anything in some other code we may have provided."
   ]
  },
  {
   "cell_type": "code",
   "execution_count": null,
   "metadata": {},
   "outputs": [],
   "source": [
    "%%chat\n",
    "Is dataframe initialized in code? If so, name?\n",
    "\n",
    "import matplotlib.pyplot as plt\n",
    "arr = [3,5,2,4,1]\n",
    "\n",
    "plt.bar(range(len(arr)), arr, color=['red', 'green', 'blue', 'yellow', 'orange'])\n",
    "plt.title('Bar Graph')\n",
    "plt.xlabel('Index')\n",
    "plt.ylabel('Value')\n",
    "plt.legend()\n",
    "\n",
    "plt.show()\n"
   ]
  },
  {
   "cell_type": "code",
   "execution_count": null,
   "metadata": {},
   "outputs": [],
   "source": [
    "state_cov_data"
   ]
  },
  {
   "attachments": {},
   "cell_type": "markdown",
   "metadata": {},
   "source": [
    "### Is there data for Montana?\n",
    "\n",
    "Check to see if there is data for Montana in the dataframe both with code and with the chatbot."
   ]
  },
  {
   "cell_type": "code",
   "execution_count": null,
   "metadata": {},
   "outputs": [],
   "source": [
    "if state_cov_data[state_cov_data['state'] == 'Montana'].__len__() == 0:\n",
    "    print('No, there is no data for Montana in the dataframe.')"
   ]
  },
  {
   "cell_type": "code",
   "execution_count": null,
   "metadata": {},
   "outputs": [],
   "source": [
    "%%chat\n",
    "Is there a row for Montana in state_cov_data?"
   ]
  },
  {
   "attachments": {},
   "cell_type": "markdown",
   "metadata": {},
   "source": [
    "### Might need to tell chat what state_cov_data looks like...\n",
    "But let's see what it \"knows\" right now."
   ]
  },
  {
   "cell_type": "code",
   "execution_count": null,
   "metadata": {},
   "outputs": [],
   "source": [
    "%%chat\n",
    "Describe the data in state_cov_data"
   ]
  },
  {
   "attachments": {},
   "cell_type": "markdown",
   "metadata": {},
   "source": [
    "Wow. It must've gleaned this from the name of the dataframe. "
   ]
  },
  {
   "cell_type": "code",
   "execution_count": null,
   "metadata": {},
   "outputs": [],
   "source": [
    "%%chat\n",
    "Where did this data originate?"
   ]
  },
  {
   "cell_type": "code",
   "execution_count": null,
   "metadata": {},
   "outputs": [],
   "source": [
    "%%chat\n",
    "Does it contain county information?"
   ]
  },
  {
   "attachments": {},
   "cell_type": "markdown",
   "metadata": {},
   "source": [
    "Not true. It does contain county information (fips) and it's from a github repository by the NYTimes. Not sure it was directly obtained from the CDC. Just a wild-ass guess on Chat's part. :)"
   ]
  },
  {
   "cell_type": "code",
   "execution_count": null,
   "metadata": {},
   "outputs": [],
   "source": [
    "%%chat \n",
    "Does it contain information about probable cases and deaths?"
   ]
  },
  {
   "cell_type": "code",
   "execution_count": 31,
   "metadata": {},
   "outputs": [
    {
     "data": {
      "text/markdown": [
       "\n",
       "The code above imports the pandas library and reads in the data from the 'pima-data.csv' file into a dataframe called 'data'."
      ],
      "text/plain": [
       "<IPython.core.display.Markdown object>"
      ]
     },
     "metadata": {},
     "output_type": "display_data"
    }
   ],
   "source": [
    "%%chat\n",
    "import pandas as pd\n",
    "data = pd.read_csv('pima-data.csv')\n"
   ]
  },
  {
   "cell_type": "code",
   "execution_count": 32,
   "metadata": {},
   "outputs": [
    {
     "data": {
      "text/markdown": [
       "\n",
       "The data dataframe contains the following columns: 'num_preg', 'glucose_conc', 'diastolic_bp', 'thickness', 'insulin', 'bmi', 'diab_pred', 'age' and 'diabetes'."
      ],
      "text/plain": [
       "<IPython.core.display.Markdown object>"
      ]
     },
     "metadata": {},
     "output_type": "display_data"
    }
   ],
   "source": [
    "%%chat\n",
    "What columns are in the data dataframe?"
   ]
  },
  {
   "cell_type": "code",
   "execution_count": 26,
   "metadata": {},
   "outputs": [
    {
     "data": {
      "text/markdown": [
       "**Chatbot** generated code is below"
      ],
      "text/plain": [
       "<IPython.core.display.Markdown object>"
      ]
     },
     "metadata": {},
     "output_type": "display_data"
    }
   ],
   "source": [
    "%%code\n",
    "Test-train-split the data dataframe"
   ]
  },
  {
   "cell_type": "code",
   "execution_count": null,
   "metadata": {},
   "outputs": [],
   "source": [
    "from sklearn.model_selection import train_test_split\n",
    "X = data.drop('target', axis=1)\n",
    "y = data['target']\n",
    "X_train, X_test, y_train, y_test = train_test_split(X, y, test_size=0.2, random_state=42)"
   ]
  },
  {
   "attachments": {},
   "cell_type": "markdown",
   "metadata": {},
   "source": [
    "Definitely dealing with wild-ass guesses."
   ]
  },
  {
   "attachments": {},
   "cell_type": "markdown",
   "metadata": {},
   "source": [
    "### Tell Chat what's really in the dataframe\n",
    "I've attempted to use a terse prompt as a way to be able to programmatically always cause the same resulting analysis to be done on the information provided."
   ]
  },
  {
   "cell_type": "code",
   "execution_count": null,
   "metadata": {},
   "outputs": [],
   "source": [
    "%%chat\n",
    "state_cov_data sample data is:\n",
    "date          state  fips    cases  deaths\n",
    "2020-01-21     Washington    53        1       0\n",
    "2020-01-22     Washington    53        1       0\n",
    "2020-01-23     Washington    53        1       0\n",
    "2020-01-24       Illinois    17        1       0\n",
    "2020-01-24     Washington    53        1       0\n",
    "2023-01-10       Virginia    51  2229877   22952\n",
    "2023-01-10     Washington    53  1889201   15175\n",
    "2023-01-10  West Virginia    54   628901    7869\n",
    "2023-01-10      Wisconsin    55  1970004   15960\n",
    "2023-01-10        Wyoming    56   183385    1968\n",
    "\n",
    "No output"
   ]
  },
  {
   "cell_type": "code",
   "execution_count": null,
   "metadata": {},
   "outputs": [],
   "source": [
    "%%code\n",
    "Filter state_cov_data for Virginia and set to new dataframe variable"
   ]
  },
  {
   "cell_type": "code",
   "execution_count": null,
   "metadata": {},
   "outputs": [],
   "source": [
    "virginia_data = state_cov_data[state_cov_data['state'] == 'Virginia']"
   ]
  },
  {
   "attachments": {},
   "cell_type": "markdown",
   "metadata": {},
   "source": [
    "### Generated cell is usually correct\n",
    "But, I randomly get different names for the new dataframe variable. \n",
    "As another aside, it's probably a good idea to establish a link (probably in metadata) between a %%code cell and the resulting output. This way we could know whether we should replace or add a new cell rather than always just creating a new one. "
   ]
  },
  {
   "cell_type": "code",
   "execution_count": null,
   "metadata": {},
   "outputs": [],
   "source": [
    "%%code\n",
    "Filter state_cov_data for Virginia and set to a new dataframe variable called va_data."
   ]
  },
  {
   "cell_type": "code",
   "execution_count": null,
   "metadata": {},
   "outputs": [],
   "source": [
    "va_data = state_cov_data[state_cov_data['state'] == 'Virginia']"
   ]
  },
  {
   "attachments": {},
   "cell_type": "markdown",
   "metadata": {},
   "source": [
    "Perhaps we could test to see if a newly generated cell is the same as what was previously generated before adding a new one."
   ]
  },
  {
   "cell_type": "code",
   "execution_count": null,
   "metadata": {},
   "outputs": [],
   "source": [
    "%%chat\n",
    "Do the two Virginia dataframes represent the same data? In other words are they identical?"
   ]
  },
  {
   "cell_type": "code",
   "execution_count": null,
   "metadata": {},
   "outputs": [],
   "source": [
    "va_data.head()"
   ]
  },
  {
   "attachments": {},
   "cell_type": "markdown",
   "metadata": {},
   "source": [
    "### Add some random checking about the known state of the notebook according to the chatbot"
   ]
  },
  {
   "cell_type": "code",
   "execution_count": null,
   "metadata": {},
   "outputs": [],
   "source": [
    "%%chat\n",
    "What columns are in washington_bling_data?"
   ]
  },
  {
   "cell_type": "code",
   "execution_count": null,
   "metadata": {},
   "outputs": [],
   "source": [
    "%%chat\n",
    "What columns are in idaho_state_data?"
   ]
  },
  {
   "cell_type": "code",
   "execution_count": null,
   "metadata": {},
   "outputs": [],
   "source": [
    "%%chat\n",
    "What dataframes are currently loaded?"
   ]
  },
  {
   "cell_type": "code",
   "execution_count": null,
   "metadata": {},
   "outputs": [],
   "source": []
  }
 ],
 "metadata": {
  "kernelspec": {
   "display_name": "covid-analysis-nb",
   "language": "python",
   "name": "python3"
  },
  "language_info": {
   "codemirror_mode": {
    "name": "ipython",
    "version": 3
   },
   "file_extension": ".py",
   "mimetype": "text/x-python",
   "name": "python",
   "nbconvert_exporter": "python",
   "pygments_lexer": "ipython3",
   "version": "3.10.8"
  },
  "orig_nbformat": 4,
  "vscode": {
   "interpreter": {
    "hash": "cae656e1225910a3e003afa21e2b379dd7fcc8ae247e581ecf99e369a58caf2a"
   }
  }
 },
 "nbformat": 4,
 "nbformat_minor": 2
}
