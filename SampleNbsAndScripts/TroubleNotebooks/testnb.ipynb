{
  "cells": [
    {
      "cell_type": "markdown",
      "source": [
        "# Notebook Test Scenarios"
      ],
      "metadata": {
        "nteract": {
          "transient": {
            "deleting": false
          }
        }
      }
    },
    {
      "cell_type": "markdown",
      "source": [
        "### Grid 1A \r\n",
        "\r\n",
        "Restart and run all on multicells.ipynb. "
      ],
      "metadata": {
        "nteract": {
          "transient": {
            "deleting": false
          }
        }
      }
    },
    {
      "cell_type": "markdown",
      "source": [
        "### Grid 1B\r\n",
        "\r\n",
        "Toggle theme and load notebook"
      ],
      "metadata": {
        "nteract": {
          "transient": {
            "deleting": false
          }
        }
      }
    },
    {
      "cell_type": "markdown",
      "source": [
        "### Grid 1C\r\n",
        "\r\n",
        "Disable autosave and verify it doesn't happen via the network console (no periodic network calls to <filename>.ipynb in the network tab)."
      ],
      "metadata": {
        "nteract": {
          "transient": {
            "deleting": false
          }
        }
      }
    },
    {
      "cell_type": "markdown",
      "source": [
        "[Requires local]\r\n",
        "\r\n",
        "### Grid 2A\r\n",
        "\r\n",
        "Load a notebook from storage with a malformed URL, confirm that that notebook component doesn't load"
      ],
      "metadata": {
        "nteract": {
          "transient": {
            "deleting": false
          }
        }
      }
    },
    {
      "cell_type": "markdown",
      "source": [
        "### Grid 2B\r\n",
        "\r\n",
        "Execute a cell with a bug (e.g. prin(\"prin is not a Python function\")) and verify the stack trace is displayed in the output."
      ],
      "metadata": {
        "nteract": {
          "transient": {
            "deleting": false
          }
        }
      }
    },
    {
      "cell_type": "code",
      "source": [
        "prin(\"prin is not a Python function\"))"
      ],
      "outputs": [],
      "execution_count": null,
      "metadata": {
        "collapsed": true,
        "jupyter": {
          "source_hidden": false,
          "outputs_hidden": false
        },
        "nteract": {
          "transient": {
            "deleting": false
          }
        }
      }
    },
    {
      "cell_type": "markdown",
      "source": [
        "### Grid 3C\r\n",
        "\r\n",
        "Disconnect from compute and verify that kernel is sent a shutdown request via network console."
      ],
      "metadata": {
        "nteract": {
          "transient": {
            "deleting": false
          }
        }
      }
    },
    {
      "cell_type": "markdown",
      "source": [
        "### Grid 15: Multiple browsers\r\n",
        "\r\n",
        "A: Run cell in one browser, both browsers should report \"busy\" kernel. \r\n",
        "B: Run cell in second browser, should be queued up to run after the first browser finishes\r\n"
      ],
      "metadata": {
        "nteract": {
          "transient": {
            "deleting": false
          }
        }
      }
    },
    {
      "cell_type": "code",
      "source": [
        "import time\n",
        "\n",
        "for i in range(20):\n",
        "    # print(i)\n",
        "    time.sleep(3)  "
      ],
      "outputs": [],
      "execution_count": null,
      "metadata": {
        "gather": {
          "logged": 1613169250721
        }
      }
    },
    {
      "cell_type": "markdown",
      "source": [
        "### Grid 16A\r\n",
        "\r\n",
        "Use the cell below to be cause the kernel to crash and restart\r\n",
        "\r\n",
        "#### Expected: \r\n",
        "\r\n",
        "Status Bar shows `Jupyter kernel restarting` followed by `Jupyter kernel idle`. \r\n",
        "Message bar warning showing 'Kernel restarted on the server' \r\n",
        "\r\n",
        "Queued cells should be canceled"
      ],
      "metadata": {
        "nteract": {
          "transient": {
            "deleting": false
          }
        }
      }
    },
    {
      "cell_type": "code",
      "source": [
        "import os\n",
        "os._exit(1)"
      ],
      "outputs": [],
      "execution_count": null,
      "metadata": {
        "collapsed": true,
        "jupyter": {
          "outputs_hidden": false,
          "source_hidden": false
        },
        "nteract": {
          "transient": {
            "deleting": false
          }
        }
      }
    },
    {
      "cell_type": "markdown",
      "source": [
        "### Grid 16B\r\n",
        "\r\n",
        "Unrecoverable kernel crash - Kernel becomes dead\r\n",
        "\r\n",
        "#### Expected: \r\n",
        "\r\n",
        "Status Bar shows `Jupyter kernel restarting` followed by `Jupyter kernel stopped`. \r\n",
        "Queued cells should be canceled"
      ],
      "metadata": {
        "nteract": {
          "transient": {
            "deleting": false
          }
        }
      }
    },
    {
      "cell_type": "code",
      "source": [
        "import os\n",
        "\n",
        "from IPython.kernel.connect import get_connection_file\n",
        "with open(get_connection_file(), 'w') as f:\n",
        "\tf.write('garbage')\n",
        "\tos._exit(1)\n"
      ],
      "outputs": [],
      "execution_count": null,
      "metadata": {
        "collapsed": true,
        "jupyter": {
          "outputs_hidden": false,
          "source_hidden": false
        },
        "nteract": {
          "transient": {
            "deleting": false
          }
        }
      }
    }
  ],
  "metadata": {
    "kernel_info": {
      "name": "python3"
    },
    "kernelspec": {
      "name": "python3",
      "language": "python",
      "display_name": "Python 3"
    },
    "language_info": {
      "name": "python",
      "version": "3.6.9",
      "mimetype": "text/x-python",
      "codemirror_mode": {
        "name": "ipython",
        "version": 3
      },
      "pygments_lexer": "ipython3",
      "nbconvert_exporter": "python",
      "file_extension": ".py"
    },
    "nteract": {
      "version": "nteract-front-end@1.0.0"
    }
  },
  "nbformat": 4,
  "nbformat_minor": 2
}