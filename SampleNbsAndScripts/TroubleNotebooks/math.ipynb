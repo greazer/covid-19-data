{
 "cells": [
  {
   "cell_type": "markdown",
   "metadata": {},
   "source": [
    "# VS Code now supports rendering math in markdown!"
   ]
  },
  {
   "cell_type": "markdown",
   "metadata": {},
   "source": [
    "## The Lorenz Equations\r\n",
    "### Source\r\n",
    "```\r\n",
    "\\begin{align}\r\n",
    "\\dot{x} & = \\sigma(y-x) \\\\\r\n",
    "\\dot{y} & = \\rho x - y - xz \\\\\r\n",
    "\\dot{z} & = -\\beta z + xy\r\n",
    "\\end{align}\r\n",
    "```\r\n",
    "### Display\r\n",
    "\r\n",
    "$$\r\n",
    "\\begin{align}\r\n",
    "\\dot{x} & = \\sigma(y-x) \\\\\r\n",
    "\\dot{y} & = \\rho x - y - xz \\\\\r\n",
    "\\dot{z} & = -\\beta z + xy\r\n",
    "\\end{align}\r\n",
    "$$"
   ]
  },
  {
   "cell_type": "markdown",
   "metadata": {},
   "source": [
    "## The Cauchy-Schwarz Inequality\r\n",
    "### Source\r\n",
    "```\r\n",
    "\\begin{equation*}\r\n",
    "\\left( \\sum_{k=1}^n a_k b_k \\right)^2 \\leq \\left( \\sum_{k=1}^n a_k^2 \\right) \\left( \\sum_{k=1}^n b_k^2 \\right)\r\n",
    "\\end{equation*}\r\n",
    "```\r\n",
    "### Display\r\n",
    "\r\n",
    "$$\r\n",
    "\\begin{equation*}\r\n",
    "\\left( \\sum_{k=1}^n a_k b_k \\right)^2 \\leq \\left( \\sum_{k=1}^n a_k^2 \\right) \\left( \\sum_{k=1}^n b_k^2 \\right)\r\n",
    "\\end{equation*}\r\n",
    "$$"
   ]
  },
  {
   "cell_type": "markdown",
   "metadata": {},
   "source": [
    "## A Cross Product Formula\r\n",
    "### Source\r\n",
    "```\r\n",
    "\\begin{equation*}\r\n",
    "\\mathbf{V}_1 \\times \\mathbf{V}_2 =  \\begin{vmatrix}\r\n",
    "\\mathbf{i} & \\mathbf{j} & \\mathbf{k} \\\\\r\n",
    "\\frac{\\partial X}{\\partial u} &  \\frac{\\partial Y}{\\partial u} & 0 \\\\\r\n",
    "\\frac{\\partial X}{\\partial v} &  \\frac{\\partial Y}{\\partial v} & 0\r\n",
    "\\end{vmatrix}  \r\n",
    "\\end{equation*}\r\n",
    "```\r\n",
    "### Display\r\n",
    "\r\n",
    "$$\r\n",
    "\\begin{equation*}\r\n",
    "\\mathbf{V}_1 \\times \\mathbf{V}_2 =  \\begin{vmatrix}\r\n",
    "\\mathbf{i} & \\mathbf{j} & \\mathbf{k} \\\\\r\n",
    "\\frac{\\partial X}{\\partial u} &  \\frac{\\partial Y}{\\partial u} & 0 \\\\\r\n",
    "\\frac{\\partial X}{\\partial v} &  \\frac{\\partial Y}{\\partial v} & 0\r\n",
    "\\end{vmatrix}  \r\n",
    "\\end{equation*}\r\n",
    "$$"
   ]
  },
  {
   "cell_type": "markdown",
   "metadata": {},
   "source": [
    "## The probability of getting \\(k\\) heads when flipping \\(n\\) coins is\r\n",
    "### Source\r\n",
    "```\r\n",
    "\\begin{equation*}\r\n",
    "P(E)   = {n \\choose k} p^k (1-p)^{ n-k} \r\n",
    "\\end{equation*}\r\n",
    "```\r\n",
    "### Display\r\n",
    "\r\n",
    "$$\r\n",
    "\\begin{equation*}\r\n",
    "P(E)   = {n \\choose k} p^k (1-p)^{ n-k} \r\n",
    "\\end{equation*}\r\n",
    "$$"
   ]
  },
  {
   "cell_type": "markdown",
   "metadata": {},
   "source": [
    "## An Identity of Ramanujan\r\n",
    "### Source\r\n",
    "```\r\n",
    "\\begin{equation*}\r\n",
    "\\frac{1}{\\Bigl(\\sqrt{\\phi \\sqrt{5}}-\\phi\\Bigr) e^{\\frac25 \\pi}} =\r\n",
    "1+\\frac{e^{-2\\pi}} {1+\\frac{e^{-4\\pi}} {1+\\frac{e^{-6\\pi}}\r\n",
    "{1+\\frac{e^{-8\\pi}} {1+\\ldots} } } } \r\n",
    "\\end{equation*}\r\n",
    "```\r\n",
    "### Display\r\n",
    "$$\r\n",
    "\\begin{equation*}\r\n",
    "\\frac{1}{\\Bigl(\\sqrt{\\phi \\sqrt{5}}-\\phi\\Bigr) e^{\\frac25 \\pi}} =\r\n",
    "1+\\frac{e^{-2\\pi}} {1+\\frac{e^{-4\\pi}} {1+\\frac{e^{-6\\pi}}\r\n",
    "{1+\\frac{e^{-8\\pi}} {1+\\ldots} } } } \r\n",
    "\\end{equation*}\r\n",
    "$$"
   ]
  },
  {
   "cell_type": "markdown",
   "metadata": {},
   "source": [
    "## A Rogers-Ramanujan Identity\n",
    "### Source\n",
    "```\n",
    "\\begin{equation*}\n",
    "1 +  \\frac{q^2}{(1-q)}+\\frac{q^6}{(1-q)(1-q^2)}+\\cdots =\n",
    "\\prod_{j=0}^{\\infty}\\frac{1}{(1-q^{5j+2})(1-q^{5j+3})},\n",
    "\\quad\\quad \\text{for $|q|<1$}. \n",
    "\\end{equation*}\n",
    "```\n",
    "### Display\n",
    "\n",
    "$$\\begin{equation*}\n",
    "1 + \\frac{q^2}{(1-q)}+\\frac{q^6}{(1-q)(1-q^2)}+\\cdots =\n",
    "\\prod_{j=0}^{\\infty}\\frac{1}{(1-q^{5j+2})(1-q^{5j+3})},\n",
    "\\quad\\quad \\text{for $|q|<1$}. \n",
    "\\end{equation*}$$"
   ]
  },
  {
   "cell_type": "markdown",
   "metadata": {},
   "source": [
    "## Maxwell's Equations\r\n",
    "### Source\r\n",
    "```\r\n",
    "\\begin{align}\r\n",
    "\\nabla \\times \\vec{\\mathbf{B}} -\\, \\frac1c\\, \\frac{\\partial\\vec{\\mathbf{E}}}{\\partial t} & = \\frac{4\\pi}{c}\\vec{\\mathbf{j}} \\\\   \\nabla \\cdot \\vec{\\mathbf{E}} & = 4 \\pi \\rho \\\\\r\n",
    "\\nabla \\times \\vec{\\mathbf{E}}\\, +\\, \\frac1c\\, \\frac{\\partial\\vec{\\mathbf{B}}}{\\partial t} & = \\vec{\\mathbf{0}} \\\\\r\n",
    "\\nabla \\cdot \\vec{\\mathbf{B}} & = 0 \r\n",
    "\\end{align}\r\n",
    "```\r\n",
    "### Display\r\n",
    "\r\n",
    "$$\r\n",
    "\\begin{align}\r\n",
    "\\nabla \\times \\vec{\\mathbf{B}} -\\, \\frac1c\\, \\frac{\\partial\\vec{\\mathbf{E}}}{\\partial t} & = \\frac{4\\pi}{c}\\vec{\\mathbf{j}} \\\\   \\nabla \\cdot \\vec{\\mathbf{E}} & = 4 \\pi \\rho \\\\\r\n",
    "\\nabla \\times \\vec{\\mathbf{E}}\\, +\\, \\frac1c\\, \\frac{\\partial\\vec{\\mathbf{B}}}{\\partial t} & = \\vec{\\mathbf{0}} \\\\\r\n",
    "\\nabla \\cdot \\vec{\\mathbf{B}} & = 0 \r\n",
    "\\end{align}\r\n",
    "$$"
   ]
  },
  {
   "cell_type": "markdown",
   "metadata": {},
   "source": [
    "## Inline Typesetting (Mixing Markdown and TeX)\n",
    "\n",
    "While display equations look good for a page of samples, the ability to mix math and *formatted* **text** in a paragraph is also important.\n",
    "\n",
    "### Source\n",
    "```\n",
    "This expression $\\sqrt{3x-1}+(1+x)^2$ is an example of a TeX inline equation in a [Markdown-formatted](https://daringfireball.net/projects/markdown/) sentence.  \n",
    "```\n",
    "\n",
    "### Display\n",
    "This expression $\\sqrt{3x-1}+(1+x)^2$ is an example of a TeX inline equation in a [Markdown-formatted](https://daringfireball.net/projects/markdown/) sentence.  "
   ]
  }
 ],
 "metadata": {
  "kernelspec": {
   "display_name": "Python 3",
   "language": "python",
   "name": "python3"
  },
  "language_info": {
   "codemirror_mode": {
    "name": "ipython",
    "version": 3
   },
   "file_extension": ".py",
   "mimetype": "text/x-python",
   "name": "python",
   "nbconvert_exporter": "python",
   "pygments_lexer": "ipython3",
   "version": "3.7.3"
  }
 },
 "nbformat": 4,
 "nbformat_minor": 1
}